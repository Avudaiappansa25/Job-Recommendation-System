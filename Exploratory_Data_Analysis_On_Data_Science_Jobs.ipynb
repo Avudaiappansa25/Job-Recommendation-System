{
 "cells": [
  {
   "cell_type": "markdown",
   "id": "f720ccdf",
   "metadata": {
    "papermill": {
     "duration": 0.011996,
     "end_time": "2022-07-02T12:53:55.466950",
     "exception": false,
     "start_time": "2022-07-02T12:53:55.454954",
     "status": "completed"
    },
    "tags": []
   },
   "source": [
    "# Data Science Job Salaries\n",
    "\n",
    "In this notebook we are going to explore information from Data Science Job Salaries dataset.\n"
   ]
  },
  {
   "cell_type": "markdown",
   "id": "36038198",
   "metadata": {
    "papermill": {
     "duration": 0.011741,
     "end_time": "2022-07-02T12:53:55.490659",
     "exception": false,
     "start_time": "2022-07-02T12:53:55.478918",
     "status": "completed"
    },
    "tags": []
   },
   "source": [
    "#### Some question we are trying to answer:\n",
    "\n",
    "1. What **job title** are the most and how are they distributed? based on:\n",
    "    * Experience Level\n",
    "    * Employment Type\n",
    "    * Remote Ratio\n",
    "    * Company Size\n",
    "    \n",
    "2. What countries do employees come from?\n",
    "3. What countries do companies come from?\n",
    "4. How many employees work in their own country?\n",
    "5. How **salaries** are distributed? based on:\n",
    "    * Experience Level\n",
    "    * Employment Type\n",
    "    * Job Title\n",
    "    * Remote Ratio\n",
    "    * Company Size\n",
    "6. From which country is the company paid more for data science job?\n"
   ]
  },
  {
   "cell_type": "markdown",
   "id": "44c04281",
   "metadata": {
    "papermill": {
     "duration": 0.010022,
     "end_time": "2022-07-02T12:53:55.511935",
     "exception": false,
     "start_time": "2022-07-02T12:53:55.501913",
     "status": "completed"
    },
    "tags": []
   },
   "source": [
    "## Importing libraries"
   ]
  },
  {
   "cell_type": "code",
   "execution_count": 1,
   "id": "88e1dbba",
   "metadata": {
    "execution": {
     "iopub.execute_input": "2022-07-02T12:53:55.540024Z",
     "iopub.status.busy": "2022-07-02T12:53:55.539212Z",
     "iopub.status.idle": "2022-07-02T12:53:57.025611Z",
     "shell.execute_reply": "2022-07-02T12:53:57.024069Z"
    },
    "papermill": {
     "duration": 1.507551,
     "end_time": "2022-07-02T12:53:57.030978",
     "exception": false,
     "start_time": "2022-07-02T12:53:55.523427",
     "status": "completed"
    },
    "tags": []
   },
   "outputs": [],
   "source": [
    "import os\n",
    "import pandas as pd\n",
    "import numpy as np\n",
    "import matplotlib.pyplot as plt\n",
    "import seaborn as sns\n",
    "import warnings \n",
    "\n",
    "warnings.filterwarnings(action= 'ignore')\n",
    "\n",
    "sns.set_palette('Set2')\n",
    "sns.set_style('dark')"
   ]
  },
  {
   "cell_type": "markdown",
   "id": "8302d1cb",
   "metadata": {
    "papermill": {
     "duration": 0.011292,
     "end_time": "2022-07-02T12:53:57.052932",
     "exception": false,
     "start_time": "2022-07-02T12:53:57.041640",
     "status": "completed"
    },
    "tags": []
   },
   "source": [
    "## Loading and Manipulating the Data"
   ]
  },
  {
   "cell_type": "code",
   "execution_count": 2,
   "id": "ebdb8ad2",
   "metadata": {
    "execution": {
     "iopub.execute_input": "2022-07-02T12:53:57.078382Z",
     "iopub.status.busy": "2022-07-02T12:53:57.077921Z",
     "iopub.status.idle": "2022-07-02T12:53:57.092727Z",
     "shell.execute_reply": "2022-07-02T12:53:57.091247Z"
    },
    "papermill": {
     "duration": 0.031119,
     "end_time": "2022-07-02T12:53:57.095570",
     "exception": false,
     "start_time": "2022-07-02T12:53:57.064451",
     "status": "completed"
    },
    "tags": []
   },
   "outputs": [
    {
     "name": "stdout",
     "output_type": "stream",
     "text": [
      "/kaggle/input/data-science-job-salaries/ds_salaries.csv\n"
     ]
    }
   ],
   "source": [
    "for dirname, _, filenames in os.walk('/kaggle/input'):\n",
    "    for filename in filenames:\n",
    "        print(os.path.join(dirname, filename))"
   ]
  },
  {
   "cell_type": "code",
   "execution_count": 3,
   "id": "4c2e20da",
   "metadata": {
    "execution": {
     "iopub.execute_input": "2022-07-02T12:53:57.120581Z",
     "iopub.status.busy": "2022-07-02T12:53:57.119226Z",
     "iopub.status.idle": "2022-07-02T12:53:57.150724Z",
     "shell.execute_reply": "2022-07-02T12:53:57.149471Z"
    },
    "papermill": {
     "duration": 0.046784,
     "end_time": "2022-07-02T12:53:57.153615",
     "exception": false,
     "start_time": "2022-07-02T12:53:57.106831",
     "status": "completed"
    },
    "tags": []
   },
   "outputs": [],
   "source": [
    "df = pd.read_csv('/kaggle/input/data-science-job-salaries/ds_salaries.csv', index_col='Unnamed: 0')"
   ]
  },
  {
   "cell_type": "code",
   "execution_count": 4,
   "id": "49bcf26f",
   "metadata": {
    "execution": {
     "iopub.execute_input": "2022-07-02T12:53:57.179013Z",
     "iopub.status.busy": "2022-07-02T12:53:57.178239Z",
     "iopub.status.idle": "2022-07-02T12:53:57.204925Z",
     "shell.execute_reply": "2022-07-02T12:53:57.203532Z"
    },
    "jupyter": {
     "source_hidden": true
    },
    "papermill": {
     "duration": 0.044136,
     "end_time": "2022-07-02T12:53:57.208735",
     "exception": false,
     "start_time": "2022-07-02T12:53:57.164599",
     "status": "completed"
    },
    "tags": []
   },
   "outputs": [
    {
     "data": {
      "text/html": [
       "<div>\n",
       "<style scoped>\n",
       "    .dataframe tbody tr th:only-of-type {\n",
       "        vertical-align: middle;\n",
       "    }\n",
       "\n",
       "    .dataframe tbody tr th {\n",
       "        vertical-align: top;\n",
       "    }\n",
       "\n",
       "    .dataframe thead th {\n",
       "        text-align: right;\n",
       "    }\n",
       "</style>\n",
       "<table border=\"1\" class=\"dataframe\">\n",
       "  <thead>\n",
       "    <tr style=\"text-align: right;\">\n",
       "      <th></th>\n",
       "      <th>work_year</th>\n",
       "      <th>experience_level</th>\n",
       "      <th>employment_type</th>\n",
       "      <th>job_title</th>\n",
       "      <th>salary</th>\n",
       "      <th>salary_currency</th>\n",
       "      <th>salary_in_usd</th>\n",
       "      <th>employee_residence</th>\n",
       "      <th>remote_ratio</th>\n",
       "      <th>company_location</th>\n",
       "      <th>company_size</th>\n",
       "    </tr>\n",
       "  </thead>\n",
       "  <tbody>\n",
       "    <tr>\n",
       "      <th>0</th>\n",
       "      <td>2020</td>\n",
       "      <td>MI</td>\n",
       "      <td>FT</td>\n",
       "      <td>Data Scientist</td>\n",
       "      <td>70000</td>\n",
       "      <td>EUR</td>\n",
       "      <td>79833</td>\n",
       "      <td>DE</td>\n",
       "      <td>0</td>\n",
       "      <td>DE</td>\n",
       "      <td>L</td>\n",
       "    </tr>\n",
       "    <tr>\n",
       "      <th>1</th>\n",
       "      <td>2020</td>\n",
       "      <td>SE</td>\n",
       "      <td>FT</td>\n",
       "      <td>Machine Learning Scientist</td>\n",
       "      <td>260000</td>\n",
       "      <td>USD</td>\n",
       "      <td>260000</td>\n",
       "      <td>JP</td>\n",
       "      <td>0</td>\n",
       "      <td>JP</td>\n",
       "      <td>S</td>\n",
       "    </tr>\n",
       "    <tr>\n",
       "      <th>2</th>\n",
       "      <td>2020</td>\n",
       "      <td>SE</td>\n",
       "      <td>FT</td>\n",
       "      <td>Big Data Engineer</td>\n",
       "      <td>85000</td>\n",
       "      <td>GBP</td>\n",
       "      <td>109024</td>\n",
       "      <td>GB</td>\n",
       "      <td>50</td>\n",
       "      <td>GB</td>\n",
       "      <td>M</td>\n",
       "    </tr>\n",
       "    <tr>\n",
       "      <th>3</th>\n",
       "      <td>2020</td>\n",
       "      <td>MI</td>\n",
       "      <td>FT</td>\n",
       "      <td>Product Data Analyst</td>\n",
       "      <td>20000</td>\n",
       "      <td>USD</td>\n",
       "      <td>20000</td>\n",
       "      <td>HN</td>\n",
       "      <td>0</td>\n",
       "      <td>HN</td>\n",
       "      <td>S</td>\n",
       "    </tr>\n",
       "    <tr>\n",
       "      <th>4</th>\n",
       "      <td>2020</td>\n",
       "      <td>SE</td>\n",
       "      <td>FT</td>\n",
       "      <td>Machine Learning Engineer</td>\n",
       "      <td>150000</td>\n",
       "      <td>USD</td>\n",
       "      <td>150000</td>\n",
       "      <td>US</td>\n",
       "      <td>50</td>\n",
       "      <td>US</td>\n",
       "      <td>L</td>\n",
       "    </tr>\n",
       "  </tbody>\n",
       "</table>\n",
       "</div>"
      ],
      "text/plain": [
       "   work_year experience_level employment_type                   job_title  \\\n",
       "0       2020               MI              FT              Data Scientist   \n",
       "1       2020               SE              FT  Machine Learning Scientist   \n",
       "2       2020               SE              FT           Big Data Engineer   \n",
       "3       2020               MI              FT        Product Data Analyst   \n",
       "4       2020               SE              FT   Machine Learning Engineer   \n",
       "\n",
       "   salary salary_currency  salary_in_usd employee_residence  remote_ratio  \\\n",
       "0   70000             EUR          79833                 DE             0   \n",
       "1  260000             USD         260000                 JP             0   \n",
       "2   85000             GBP         109024                 GB            50   \n",
       "3   20000             USD          20000                 HN             0   \n",
       "4  150000             USD         150000                 US            50   \n",
       "\n",
       "  company_location company_size  \n",
       "0               DE            L  \n",
       "1               JP            S  \n",
       "2               GB            M  \n",
       "3               HN            S  \n",
       "4               US            L  "
      ]
     },
     "execution_count": 4,
     "metadata": {},
     "output_type": "execute_result"
    }
   ],
   "source": [
    "df.head()"
   ]
  },
  {
   "cell_type": "code",
   "execution_count": 5,
   "id": "d2cdf87a",
   "metadata": {
    "execution": {
     "iopub.execute_input": "2022-07-02T12:53:57.234006Z",
     "iopub.status.busy": "2022-07-02T12:53:57.233560Z",
     "iopub.status.idle": "2022-07-02T12:53:57.242661Z",
     "shell.execute_reply": "2022-07-02T12:53:57.241591Z"
    },
    "papermill": {
     "duration": 0.024739,
     "end_time": "2022-07-02T12:53:57.244660",
     "exception": false,
     "start_time": "2022-07-02T12:53:57.219921",
     "status": "completed"
    },
    "tags": []
   },
   "outputs": [],
   "source": [
    "unused_columns = ['work_year', 'salary', 'salary_currency']\n",
    "df.drop(columns=unused_columns, inplace=True)"
   ]
  },
  {
   "cell_type": "code",
   "execution_count": 6,
   "id": "cd818734",
   "metadata": {
    "execution": {
     "iopub.execute_input": "2022-07-02T12:53:57.270781Z",
     "iopub.status.busy": "2022-07-02T12:53:57.269098Z",
     "iopub.status.idle": "2022-07-02T12:53:57.293199Z",
     "shell.execute_reply": "2022-07-02T12:53:57.292092Z"
    },
    "papermill": {
     "duration": 0.039545,
     "end_time": "2022-07-02T12:53:57.295892",
     "exception": false,
     "start_time": "2022-07-02T12:53:57.256347",
     "status": "completed"
    },
    "tags": []
   },
   "outputs": [
    {
     "name": "stdout",
     "output_type": "stream",
     "text": [
      "<class 'pandas.core.frame.DataFrame'>\n",
      "Int64Index: 607 entries, 0 to 606\n",
      "Data columns (total 8 columns):\n",
      " #   Column              Non-Null Count  Dtype \n",
      "---  ------              --------------  ----- \n",
      " 0   experience_level    607 non-null    object\n",
      " 1   employment_type     607 non-null    object\n",
      " 2   job_title           607 non-null    object\n",
      " 3   salary_in_usd       607 non-null    int64 \n",
      " 4   employee_residence  607 non-null    object\n",
      " 5   remote_ratio        607 non-null    int64 \n",
      " 6   company_location    607 non-null    object\n",
      " 7   company_size        607 non-null    object\n",
      "dtypes: int64(2), object(6)\n",
      "memory usage: 42.7+ KB\n"
     ]
    }
   ],
   "source": [
    "df.info()"
   ]
  },
  {
   "cell_type": "markdown",
   "id": "1aeb3fcc",
   "metadata": {
    "papermill": {
     "duration": 0.012137,
     "end_time": "2022-07-02T12:53:57.319926",
     "exception": false,
     "start_time": "2022-07-02T12:53:57.307789",
     "status": "completed"
    },
    "tags": []
   },
   "source": [
    "Okay, we need to change category name to be more informative.\n",
    "\n",
    "We got ISO3166 country name dictionary from https://gist.github.com/carlopires/1261951/d13ca7320a6abcd4b0aa800d351a31b54cefdff4\n",
    "\n",
    "Thank you, ***carlopires***!"
   ]
  },
  {
   "cell_type": "code",
   "execution_count": 7,
   "id": "c1b53a67",
   "metadata": {
    "execution": {
     "iopub.execute_input": "2022-07-02T12:53:57.347253Z",
     "iopub.status.busy": "2022-07-02T12:53:57.346124Z",
     "iopub.status.idle": "2022-07-02T12:53:57.387967Z",
     "shell.execute_reply": "2022-07-02T12:53:57.385401Z"
    },
    "jupyter": {
     "source_hidden": true
    },
    "papermill": {
     "duration": 0.05928,
     "end_time": "2022-07-02T12:53:57.391691",
     "exception": false,
     "start_time": "2022-07-02T12:53:57.332411",
     "status": "completed"
    },
    "tags": []
   },
   "outputs": [],
   "source": [
    "# Experience Level\n",
    "experience_level_dict = {'EN':'Entry Level/Junior', \n",
    "                         'MI':'Mid Level/Intermediate', \n",
    "                         'SE':'Senior Level/Expert', \n",
    "                         'EX':'Executive Level/Director'}\n",
    "\n",
    "df['experience_level'] = df['experience_level'].map(experience_level_dict)\n",
    "\n",
    "\n",
    "# Employment Type\n",
    "employment_type_dict = {'FT':'Full Time',\n",
    "                        'PT':'Part Time',\n",
    "                        'CT':'Contract',\n",
    "                        'FL':'Freelance'}\n",
    "\n",
    "df['employment_type'] = df['employment_type'].map(employment_type_dict)\n",
    "\n",
    "# Remote Ratio\n",
    "remote_ratio_dict = {0: 'No Remote',\n",
    "                     50: 'Partially Remote',\n",
    "                    100: 'Fully Remote'}\n",
    "\n",
    "df['remote_ratio'] = df['remote_ratio'].map(remote_ratio_dict)\n",
    "\n",
    "\n",
    "# ISO\n",
    "ISO3166 = {\n",
    "\t'AD': 'Andorra',\n",
    "\t'AE': 'United Arab Emirates',\n",
    "\t'AF': 'Afghanistan',\n",
    "\t'AG': 'Antigua & Barbuda',\n",
    "\t'AI': 'Anguilla',\n",
    "\t'AL': 'Albania',\n",
    "\t'AM': 'Armenia',\n",
    "\t'AN': 'Netherlands Antilles',\n",
    "\t'AO': 'Angola',\n",
    "\t'AQ': 'Antarctica',\n",
    "\t'AR': 'Argentina',\n",
    "\t'AS': 'American Samoa',\n",
    "\t'AT': 'Austria',\n",
    "\t'AU': 'Australia',\n",
    "\t'AW': 'Aruba',\n",
    "\t'AZ': 'Azerbaijan',\n",
    "\t'BA': 'Bosnia and Herzegovina',\n",
    "\t'BB': 'Barbados',\n",
    "\t'BD': 'Bangladesh',\n",
    "\t'BE': 'Belgium',\n",
    "\t'BF': 'Burkina Faso',\n",
    "\t'BG': 'Bulgaria',\n",
    "\t'BH': 'Bahrain',\n",
    "\t'BI': 'Burundi',\n",
    "\t'BJ': 'Benin',\n",
    "\t'BM': 'Bermuda',\n",
    "\t'BN': 'Brunei Darussalam',\n",
    "\t'BO': 'Bolivia',\n",
    "\t'BR': 'Brazil',\n",
    "\t'BS': 'Bahama',\n",
    "\t'BT': 'Bhutan',\n",
    "\t'BU': 'Burma (no longer exists)',\n",
    "\t'BV': 'Bouvet Island',\n",
    "\t'BW': 'Botswana',\n",
    "\t'BY': 'Belarus',\n",
    "\t'BZ': 'Belize',\n",
    "\t'CA': 'Canada',\n",
    "\t'CC': 'Cocos (Keeling) Islands',\n",
    "\t'CF': 'Central African Republic',\n",
    "\t'CG': 'Congo',\n",
    "\t'CH': 'Switzerland',\n",
    "\t'CI': 'Côte D\\'ivoire (Ivory Coast)',\n",
    "\t'CK': 'Cook Iislands',\n",
    "\t'CL': 'Chile',\n",
    "\t'CM': 'Cameroon',\n",
    "\t'CN': 'China',\n",
    "\t'CO': 'Colombia',\n",
    "\t'CR': 'Costa Rica',\n",
    "\t'CS': 'Czechoslovakia (no longer exists)',\n",
    "\t'CU': 'Cuba',\n",
    "\t'CV': 'Cape Verde',\n",
    "\t'CX': 'Christmas Island',\n",
    "\t'CY': 'Cyprus',\n",
    "\t'CZ': 'Czech Republic',\n",
    "\t'DD': 'German Democratic Republic (no longer exists)',\n",
    "\t'DE': 'Germany',\n",
    "\t'DJ': 'Djibouti',\n",
    "\t'DK': 'Denmark',\n",
    "\t'DM': 'Dominica',\n",
    "\t'DO': 'Dominican Republic',\n",
    "\t'DZ': 'Algeria',\n",
    "\t'EC': 'Ecuador',\n",
    "\t'EE': 'Estonia',\n",
    "\t'EG': 'Egypt',\n",
    "\t'EH': 'Western Sahara',\n",
    "\t'ER': 'Eritrea',\n",
    "\t'ES': 'Spain',\n",
    "\t'ET': 'Ethiopia',\n",
    "\t'FI': 'Finland',\n",
    "\t'FJ': 'Fiji',\n",
    "\t'FK': 'Falkland Islands (Malvinas)',\n",
    "\t'FM': 'Micronesia',\n",
    "\t'FO': 'Faroe Islands',\n",
    "\t'FR': 'France',\n",
    "\t'FX': 'France, Metropolitan',\n",
    "\t'GA': 'Gabon',\n",
    "\t'GB': 'United Kingdom (Great Britain)',\n",
    "\t'GD': 'Grenada',\n",
    "\t'GE': 'Georgia',\n",
    "\t'GF': 'French Guiana',\n",
    "\t'GH': 'Ghana',\n",
    "\t'GI': 'Gibraltar',\n",
    "\t'GL': 'Greenland',\n",
    "\t'GM': 'Gambia',\n",
    "\t'GN': 'Guinea',\n",
    "\t'GP': 'Guadeloupe',\n",
    "\t'GQ': 'Equatorial Guinea',\n",
    "\t'GR': 'Greece',\n",
    "\t'GS': 'South Georgia and the South Sandwich Islands',\n",
    "\t'GT': 'Guatemala',\n",
    "\t'GU': 'Guam',\n",
    "\t'GW': 'Guinea-Bissau',\n",
    "\t'GY': 'Guyana',\n",
    "\t'HK': 'Hong Kong',\n",
    "\t'HM': 'Heard & McDonald Islands',\n",
    "\t'HN': 'Honduras',\n",
    "\t'HR': 'Croatia',\n",
    "\t'HT': 'Haiti',\n",
    "\t'HU': 'Hungary',\n",
    "\t'ID': 'Indonesia',\n",
    "\t'IE': 'Ireland',\n",
    "\t'IL': 'Israel',\n",
    "\t'IN': 'India',\n",
    "\t'IO': 'British Indian Ocean Territory',\n",
    "\t'IQ': 'Iraq',\n",
    "\t'IR': 'Islamic Republic of Iran',\n",
    "\t'IS': 'Iceland',\n",
    "\t'IT': 'Italy',\n",
    "\t'JM': 'Jamaica',\n",
    "\t'JO': 'Jordan',\n",
    "\t'JP': 'Japan',\n",
    "\t'KE': 'Kenya',\n",
    "\t'KG': 'Kyrgyzstan',\n",
    "\t'KH': 'Cambodia',\n",
    "\t'KI': 'Kiribati',\n",
    "\t'KM': 'Comoros',\n",
    "\t'KN': 'St. Kitts and Nevis',\n",
    "\t'KP': 'Korea, Democratic People\\'s Republic of',\n",
    "\t'KR': 'Korea, Republic of',\n",
    "\t'KW': 'Kuwait',\n",
    "\t'KY': 'Cayman Islands',\n",
    "\t'KZ': 'Kazakhstan',\n",
    "\t'LA': 'Lao People\\'s Democratic Republic',\n",
    "\t'LB': 'Lebanon',\n",
    "\t'LC': 'Saint Lucia',\n",
    "\t'LI': 'Liechtenstein',\n",
    "\t'LK': 'Sri Lanka',\n",
    "\t'LR': 'Liberia',\n",
    "\t'LS': 'Lesotho',\n",
    "\t'LT': 'Lithuania',\n",
    "\t'LU': 'Luxembourg',\n",
    "\t'LV': 'Latvia',\n",
    "\t'LY': 'Libyan Arab Jamahiriya',\n",
    "\t'MA': 'Morocco',\n",
    "\t'MC': 'Monaco',\n",
    "\t'MD': 'Moldova, Republic of',\n",
    "\t'MG': 'Madagascar',\n",
    "\t'MH': 'Marshall Islands',\n",
    "\t'ML': 'Mali',\n",
    "\t'MN': 'Mongolia',\n",
    "\t'MM': 'Myanmar',\n",
    "\t'MO': 'Macau',\n",
    "\t'MP': 'Northern Mariana Islands',\n",
    "\t'MQ': 'Martinique',\n",
    "\t'MR': 'Mauritania',\n",
    "\t'MS': 'Monserrat',\n",
    "\t'MT': 'Malta',\n",
    "\t'MU': 'Mauritius',\n",
    "\t'MV': 'Maldives',\n",
    "\t'MW': 'Malawi',\n",
    "\t'MX': 'Mexico',\n",
    "\t'MY': 'Malaysia',\n",
    "\t'MZ': 'Mozambique',\n",
    "\t'NA': 'Namibia',\n",
    "\t'NC': 'New Caledonia',\n",
    "\t'NE': 'Niger',\n",
    "\t'NF': 'Norfolk Island',\n",
    "\t'NG': 'Nigeria',\n",
    "\t'NI': 'Nicaragua',\n",
    "\t'NL': 'Netherlands',\n",
    "\t'NO': 'Norway',\n",
    "\t'NP': 'Nepal',\n",
    "\t'NR': 'Nauru',\n",
    "\t'NT': 'Neutral Zone (no longer exists)',\n",
    "\t'NU': 'Niue',\n",
    "\t'NZ': 'New Zealand',\n",
    "\t'OM': 'Oman',\n",
    "\t'PA': 'Panama',\n",
    "\t'PE': 'Peru',\n",
    "\t'PF': 'French Polynesia',\n",
    "\t'PG': 'Papua New Guinea',\n",
    "\t'PH': 'Philippines',\n",
    "\t'PK': 'Pakistan',\n",
    "\t'PL': 'Poland',\n",
    "\t'PM': 'St. Pierre & Miquelon',\n",
    "\t'PN': 'Pitcairn',\n",
    "\t'PR': 'Puerto Rico',\n",
    "\t'PT': 'Portugal',\n",
    "\t'PW': 'Palau',\n",
    "\t'PY': 'Paraguay',\n",
    "\t'QA': 'Qatar',\n",
    "\t'RE': 'Réunion',\n",
    "\t'RO': 'Romania',\n",
    "\t'RU': 'Russian Federation',\n",
    "\t'RW': 'Rwanda',\n",
    "\t'SA': 'Saudi Arabia',\n",
    "\t'SB': 'Solomon Islands',\n",
    "\t'SC': 'Seychelles',\n",
    "\t'SD': 'Sudan',\n",
    "\t'SE': 'Sweden',\n",
    "\t'SG': 'Singapore',\n",
    "\t'SH': 'St. Helena',\n",
    "\t'SI': 'Slovenia',\n",
    "\t'SJ': 'Svalbard & Jan Mayen Islands',\n",
    "\t'SK': 'Slovakia',\n",
    "\t'SL': 'Sierra Leone',\n",
    "\t'SM': 'San Marino',\n",
    "\t'SN': 'Senegal',\n",
    "\t'SO': 'Somalia',\n",
    "\t'SR': 'Suriname',\n",
    "\t'ST': 'Sao Tome & Principe',\n",
    "\t'SU': 'Union of Soviet Socialist Republics (no longer exists)',\n",
    "\t'SV': 'El Salvador',\n",
    "\t'SY': 'Syrian Arab Republic',\n",
    "\t'SZ': 'Swaziland',\n",
    "\t'TC': 'Turks & Caicos Islands',\n",
    "\t'TD': 'Chad',\n",
    "\t'TF': 'French Southern Territories',\n",
    "\t'TG': 'Togo',\n",
    "\t'TH': 'Thailand',\n",
    "\t'TJ': 'Tajikistan',\n",
    "\t'TK': 'Tokelau',\n",
    "\t'TM': 'Turkmenistan',\n",
    "\t'TN': 'Tunisia',\n",
    "\t'TO': 'Tonga',\n",
    "\t'TP': 'East Timor',\n",
    "\t'TR': 'Turkey',\n",
    "\t'TT': 'Trinidad & Tobago',\n",
    "\t'TV': 'Tuvalu',\n",
    "\t'TW': 'Taiwan, Province of China',\n",
    "\t'TZ': 'Tanzania, United Republic of',\n",
    "\t'UA': 'Ukraine',\n",
    "\t'UG': 'Uganda',\n",
    "\t'UM': 'United States Minor Outlying Islands',\n",
    "\t'US': 'United States of America',\n",
    "\t'UY': 'Uruguay',\n",
    "\t'UZ': 'Uzbekistan',\n",
    "\t'VA': 'Vatican City State (Holy See)',\n",
    "\t'VC': 'St. Vincent & the Grenadines',\n",
    "\t'VE': 'Venezuela',\n",
    "\t'VG': 'British Virgin Islands',\n",
    "\t'VI': 'United States Virgin Islands',\n",
    "\t'VN': 'Viet Nam',\n",
    "\t'VU': 'Vanuatu',\n",
    "\t'WF': 'Wallis & Futuna Islands',\n",
    "\t'WS': 'Samoa',\n",
    "\t'YD': 'Democratic Yemen (no longer exists)',\n",
    "\t'YE': 'Yemen',\n",
    "\t'YT': 'Mayotte',\n",
    "\t'YU': 'Yugoslavia',\n",
    "\t'ZA': 'South Africa',\n",
    "\t'ZM': 'Zambia',\n",
    "\t'ZR': 'Zaire',\n",
    "\t'ZW': 'Zimbabwe',\n",
    "\t'ZZ': 'Unknown or unspecified country',\n",
    "}\n",
    "\n",
    "df['employee_residence'] = df['employee_residence'].map(ISO3166)\n",
    "df['company_location'] = df['company_location'].map(ISO3166)\n",
    "\n",
    "\n",
    "# Company Size\n",
    "company_size_dict = {'S': 'Small',\n",
    "                    'M':'Medium',\n",
    "                    'L': 'Large'}\n",
    "df['company_size'] = df['company_size'].map(company_size_dict)"
   ]
  },
  {
   "cell_type": "code",
   "execution_count": 8,
   "id": "357418b2",
   "metadata": {
    "execution": {
     "iopub.execute_input": "2022-07-02T12:53:57.416160Z",
     "iopub.status.busy": "2022-07-02T12:53:57.415109Z",
     "iopub.status.idle": "2022-07-02T12:53:57.423713Z",
     "shell.execute_reply": "2022-07-02T12:53:57.422620Z"
    },
    "jupyter": {
     "source_hidden": true
    },
    "papermill": {
     "duration": 0.024393,
     "end_time": "2022-07-02T12:53:57.426705",
     "exception": false,
     "start_time": "2022-07-02T12:53:57.402312",
     "status": "completed"
    },
    "tags": []
   },
   "outputs": [],
   "source": [
    "df.dropna(inplace=True)"
   ]
  },
  {
   "cell_type": "code",
   "execution_count": 9,
   "id": "107cf704",
   "metadata": {
    "execution": {
     "iopub.execute_input": "2022-07-02T12:53:57.454751Z",
     "iopub.status.busy": "2022-07-02T12:53:57.454013Z",
     "iopub.status.idle": "2022-07-02T12:53:57.469221Z",
     "shell.execute_reply": "2022-07-02T12:53:57.468119Z"
    },
    "jupyter": {
     "source_hidden": true
    },
    "papermill": {
     "duration": 0.032485,
     "end_time": "2022-07-02T12:53:57.471970",
     "exception": false,
     "start_time": "2022-07-02T12:53:57.439485",
     "status": "completed"
    },
    "tags": []
   },
   "outputs": [
    {
     "data": {
      "text/html": [
       "<div>\n",
       "<style scoped>\n",
       "    .dataframe tbody tr th:only-of-type {\n",
       "        vertical-align: middle;\n",
       "    }\n",
       "\n",
       "    .dataframe tbody tr th {\n",
       "        vertical-align: top;\n",
       "    }\n",
       "\n",
       "    .dataframe thead th {\n",
       "        text-align: right;\n",
       "    }\n",
       "</style>\n",
       "<table border=\"1\" class=\"dataframe\">\n",
       "  <thead>\n",
       "    <tr style=\"text-align: right;\">\n",
       "      <th></th>\n",
       "      <th>experience_level</th>\n",
       "      <th>employment_type</th>\n",
       "      <th>job_title</th>\n",
       "      <th>salary_in_usd</th>\n",
       "      <th>employee_residence</th>\n",
       "      <th>remote_ratio</th>\n",
       "      <th>company_location</th>\n",
       "      <th>company_size</th>\n",
       "    </tr>\n",
       "  </thead>\n",
       "  <tbody>\n",
       "    <tr>\n",
       "      <th>0</th>\n",
       "      <td>Mid Level/Intermediate</td>\n",
       "      <td>Full Time</td>\n",
       "      <td>Data Scientist</td>\n",
       "      <td>79833</td>\n",
       "      <td>Germany</td>\n",
       "      <td>No Remote</td>\n",
       "      <td>Germany</td>\n",
       "      <td>Large</td>\n",
       "    </tr>\n",
       "    <tr>\n",
       "      <th>1</th>\n",
       "      <td>Senior Level/Expert</td>\n",
       "      <td>Full Time</td>\n",
       "      <td>Machine Learning Scientist</td>\n",
       "      <td>260000</td>\n",
       "      <td>Japan</td>\n",
       "      <td>No Remote</td>\n",
       "      <td>Japan</td>\n",
       "      <td>Small</td>\n",
       "    </tr>\n",
       "    <tr>\n",
       "      <th>2</th>\n",
       "      <td>Senior Level/Expert</td>\n",
       "      <td>Full Time</td>\n",
       "      <td>Big Data Engineer</td>\n",
       "      <td>109024</td>\n",
       "      <td>United Kingdom (Great Britain)</td>\n",
       "      <td>Partially Remote</td>\n",
       "      <td>United Kingdom (Great Britain)</td>\n",
       "      <td>Medium</td>\n",
       "    </tr>\n",
       "    <tr>\n",
       "      <th>3</th>\n",
       "      <td>Mid Level/Intermediate</td>\n",
       "      <td>Full Time</td>\n",
       "      <td>Product Data Analyst</td>\n",
       "      <td>20000</td>\n",
       "      <td>Honduras</td>\n",
       "      <td>No Remote</td>\n",
       "      <td>Honduras</td>\n",
       "      <td>Small</td>\n",
       "    </tr>\n",
       "    <tr>\n",
       "      <th>4</th>\n",
       "      <td>Senior Level/Expert</td>\n",
       "      <td>Full Time</td>\n",
       "      <td>Machine Learning Engineer</td>\n",
       "      <td>150000</td>\n",
       "      <td>United States of America</td>\n",
       "      <td>Partially Remote</td>\n",
       "      <td>United States of America</td>\n",
       "      <td>Large</td>\n",
       "    </tr>\n",
       "  </tbody>\n",
       "</table>\n",
       "</div>"
      ],
      "text/plain": [
       "         experience_level employment_type                   job_title  \\\n",
       "0  Mid Level/Intermediate       Full Time              Data Scientist   \n",
       "1     Senior Level/Expert       Full Time  Machine Learning Scientist   \n",
       "2     Senior Level/Expert       Full Time           Big Data Engineer   \n",
       "3  Mid Level/Intermediate       Full Time        Product Data Analyst   \n",
       "4     Senior Level/Expert       Full Time   Machine Learning Engineer   \n",
       "\n",
       "   salary_in_usd              employee_residence      remote_ratio  \\\n",
       "0          79833                         Germany         No Remote   \n",
       "1         260000                           Japan         No Remote   \n",
       "2         109024  United Kingdom (Great Britain)  Partially Remote   \n",
       "3          20000                        Honduras         No Remote   \n",
       "4         150000        United States of America  Partially Remote   \n",
       "\n",
       "                 company_location company_size  \n",
       "0                         Germany        Large  \n",
       "1                           Japan        Small  \n",
       "2  United Kingdom (Great Britain)       Medium  \n",
       "3                        Honduras        Small  \n",
       "4        United States of America        Large  "
      ]
     },
     "execution_count": 9,
     "metadata": {},
     "output_type": "execute_result"
    }
   ],
   "source": [
    "df.head()"
   ]
  },
  {
   "cell_type": "markdown",
   "id": "9826e239",
   "metadata": {
    "papermill": {
     "duration": 0.012731,
     "end_time": "2022-07-02T12:53:57.496875",
     "exception": false,
     "start_time": "2022-07-02T12:53:57.484144",
     "status": "completed"
    },
    "tags": []
   },
   "source": [
    "#### 7 Most Data Science Job Titles"
   ]
  },
  {
   "cell_type": "code",
   "execution_count": 10,
   "id": "bf8869a9",
   "metadata": {
    "execution": {
     "iopub.execute_input": "2022-07-02T12:53:57.522275Z",
     "iopub.status.busy": "2022-07-02T12:53:57.521485Z",
     "iopub.status.idle": "2022-07-02T12:53:57.531642Z",
     "shell.execute_reply": "2022-07-02T12:53:57.530632Z"
    },
    "jupyter": {
     "source_hidden": true
    },
    "papermill": {
     "duration": 0.025625,
     "end_time": "2022-07-02T12:53:57.533947",
     "exception": false,
     "start_time": "2022-07-02T12:53:57.508322",
     "status": "completed"
    },
    "tags": []
   },
   "outputs": [
    {
     "data": {
      "text/plain": [
       "Data Scientist               142\n",
       "Data Engineer                132\n",
       "Data Analyst                  97\n",
       "Machine Learning Engineer     41\n",
       "Research Scientist            15\n",
       "Data Science Manager          12\n",
       "Data Architect                11\n",
       "Name: job_title, dtype: int64"
      ]
     },
     "execution_count": 10,
     "metadata": {},
     "output_type": "execute_result"
    }
   ],
   "source": [
    "seven_most_needed_job_titles = df['job_title'].value_counts().head(7)\n",
    "seven_most_needed_job_titles"
   ]
  },
  {
   "cell_type": "markdown",
   "id": "44d01fb4",
   "metadata": {
    "execution": {
     "iopub.execute_input": "2022-07-02T12:47:59.080889Z",
     "iopub.status.busy": "2022-07-02T12:47:59.079856Z",
     "iopub.status.idle": "2022-07-02T12:47:59.088957Z",
     "shell.execute_reply": "2022-07-02T12:47:59.087038Z",
     "shell.execute_reply.started": "2022-07-02T12:47:59.080848Z"
    },
    "papermill": {
     "duration": 0.011358,
     "end_time": "2022-07-02T12:53:57.556851",
     "exception": false,
     "start_time": "2022-07-02T12:53:57.545493",
     "status": "completed"
    },
    "tags": []
   },
   "source": [
    "In percentage"
   ]
  },
  {
   "cell_type": "code",
   "execution_count": 11,
   "id": "acc7faf0",
   "metadata": {
    "execution": {
     "iopub.execute_input": "2022-07-02T12:53:57.583214Z",
     "iopub.status.busy": "2022-07-02T12:53:57.582131Z",
     "iopub.status.idle": "2022-07-02T12:53:57.595565Z",
     "shell.execute_reply": "2022-07-02T12:53:57.593955Z"
    },
    "jupyter": {
     "source_hidden": true
    },
    "papermill": {
     "duration": 0.029605,
     "end_time": "2022-07-02T12:53:57.598457",
     "exception": false,
     "start_time": "2022-07-02T12:53:57.568852",
     "status": "completed"
    },
    "tags": []
   },
   "outputs": [
    {
     "data": {
      "text/plain": [
       "Data Scientist               23.471074\n",
       "Data Engineer                21.818182\n",
       "Data Analyst                 16.033058\n",
       "Machine Learning Engineer     6.776860\n",
       "Research Scientist            2.479339\n",
       "Data Science Manager          1.983471\n",
       "Data Architect                1.818182\n",
       "Name: job_title, dtype: float64"
      ]
     },
     "execution_count": 11,
     "metadata": {},
     "output_type": "execute_result"
    }
   ],
   "source": [
    "total_rows = df.shape[0]\n",
    "seven_most_needed_job_titles*100/total_rows"
   ]
  },
  {
   "cell_type": "markdown",
   "id": "e1d40e15",
   "metadata": {
    "papermill": {
     "duration": 0.011201,
     "end_time": "2022-07-02T12:53:57.622980",
     "exception": false,
     "start_time": "2022-07-02T12:53:57.611779",
     "status": "completed"
    },
    "tags": []
   },
   "source": [
    "23.4 percent employees are Data Scientist, 21.8 percent are Data Engineer, and 16.03 percent are Data Analyst.\n",
    "The rest job title are below 10 percent."
   ]
  },
  {
   "cell_type": "markdown",
   "id": "c76d19ef",
   "metadata": {
    "papermill": {
     "duration": 0.012448,
     "end_time": "2022-07-02T12:53:57.647764",
     "exception": false,
     "start_time": "2022-07-02T12:53:57.635316",
     "status": "completed"
    },
    "tags": []
   },
   "source": [
    "#### How are they distibuted based on experience level and employment type?"
   ]
  },
  {
   "cell_type": "code",
   "execution_count": 12,
   "id": "58406804",
   "metadata": {
    "execution": {
     "iopub.execute_input": "2022-07-02T12:53:57.673349Z",
     "iopub.status.busy": "2022-07-02T12:53:57.672137Z",
     "iopub.status.idle": "2022-07-02T12:53:57.679637Z",
     "shell.execute_reply": "2022-07-02T12:53:57.678660Z"
    },
    "jupyter": {
     "source_hidden": true
    },
    "papermill": {
     "duration": 0.023419,
     "end_time": "2022-07-02T12:53:57.682056",
     "exception": false,
     "start_time": "2022-07-02T12:53:57.658637",
     "status": "completed"
    },
    "tags": []
   },
   "outputs": [],
   "source": [
    "seven_job_title_only = df[df['job_title'].isin([i for i in seven_most_needed_job_titles.index])]"
   ]
  },
  {
   "cell_type": "markdown",
   "id": "bc113087",
   "metadata": {
    "papermill": {
     "duration": 0.011341,
     "end_time": "2022-07-02T12:53:57.704737",
     "exception": false,
     "start_time": "2022-07-02T12:53:57.693396",
     "status": "completed"
    },
    "tags": []
   },
   "source": [
    "#### Job Title and Experience Level"
   ]
  },
  {
   "cell_type": "code",
   "execution_count": 13,
   "id": "878fcced",
   "metadata": {
    "execution": {
     "iopub.execute_input": "2022-07-02T12:53:57.732235Z",
     "iopub.status.busy": "2022-07-02T12:53:57.731197Z",
     "iopub.status.idle": "2022-07-02T12:53:57.739976Z",
     "shell.execute_reply": "2022-07-02T12:53:57.739014Z"
    },
    "papermill": {
     "duration": 0.026492,
     "end_time": "2022-07-02T12:53:57.742641",
     "exception": false,
     "start_time": "2022-07-02T12:53:57.716149",
     "status": "completed"
    },
    "tags": []
   },
   "outputs": [],
   "source": [
    "def my_catplot(variable:str, hue_order=None, title=None):\n",
    "    sns.catplot(data=seven_job_title_only, \n",
    "                x='job_title', \n",
    "                kind='count', \n",
    "                height=10, \n",
    "                hue=variable,\n",
    "                hue_order=hue_order)\n",
    "\n",
    "    plt.xticks(rotation=45)\n",
    "    plt.ylabel('Count')\n",
    "    plt.xlabel('Job Title')\n",
    "    plt.title(title)\n",
    "    ;\n"
   ]
  },
  {
   "cell_type": "code",
   "execution_count": 14,
   "id": "87a75a14",
   "metadata": {
    "execution": {
     "iopub.execute_input": "2022-07-02T12:53:57.770331Z",
     "iopub.status.busy": "2022-07-02T12:53:57.769517Z",
     "iopub.status.idle": "2022-07-02T12:53:58.498118Z",
     "shell.execute_reply": "2022-07-02T12:53:58.496755Z"
    },
    "papermill": {
     "duration": 0.746842,
     "end_time": "2022-07-02T12:53:58.502090",
     "exception": false,
     "start_time": "2022-07-02T12:53:57.755248",
     "status": "completed"
    },
    "tags": []
   },
   "outputs": [
    {
     "data": {
      "image/png": "[encoded data removed]",
      "text/plain": [
       "<Figure size 877.625x720 with 1 Axes>"
      ]
     },
     "metadata": {},
     "output_type": "display_data"
    }
   ],
   "source": [
    "exp_order=['Entry Level/Junior','Mid Level/Intermediate','Senior Level/Expert','Executive Level/Director']\n",
    "\n",
    "my_catplot(variable='experience_level', hue_order=exp_order, title='Job Title and Experience Level')"
   ]
  },
  {
   "cell_type": "markdown",
   "id": "b83ed380",
   "metadata": {
    "papermill": {
     "duration": 0.013345,
     "end_time": "2022-07-02T12:53:58.530183",
     "exception": false,
     "start_time": "2022-07-02T12:53:58.516838",
     "status": "completed"
    },
    "tags": []
   },
   "source": [
    "**Senior Level** experience level is the most number in almost every job title and **Executive Level** only exist in Data Analyst and Data Engineer with relatively lesser than other experience level for 7 most job title in the dataset"
   ]
  },
  {
   "cell_type": "markdown",
   "id": "6fe77037",
   "metadata": {
    "papermill": {
     "duration": 0.011862,
     "end_time": "2022-07-02T12:53:58.554892",
     "exception": false,
     "start_time": "2022-07-02T12:53:58.543030",
     "status": "completed"
    },
    "tags": []
   },
   "source": [
    "#### Job Title and Employment Type"
   ]
  },
  {
   "cell_type": "code",
   "execution_count": 15,
   "id": "757b5221",
   "metadata": {
    "execution": {
     "iopub.execute_input": "2022-07-02T12:53:58.587264Z",
     "iopub.status.busy": "2022-07-02T12:53:58.586200Z",
     "iopub.status.idle": "2022-07-02T12:53:59.105967Z",
     "shell.execute_reply": "2022-07-02T12:53:59.103965Z"
    },
    "papermill": {
     "duration": 0.540676,
     "end_time": "2022-07-02T12:53:59.109149",
     "exception": false,
     "start_time": "2022-07-02T12:53:58.568473",
     "status": "completed"
    },
    "tags": []
   },
   "outputs": [
    {
     "data": {
      "image/png": "[encoded data removed]",
      "text/plain": [
       "<Figure size 817.875x720 with 1 Axes>"
      ]
     },
     "metadata": {},
     "output_type": "display_data"
    }
   ],
   "source": [
    "my_catplot(variable='employment_type', title='Job Title and Employment Type')"
   ]
  },
  {
   "cell_type": "markdown",
   "id": "cca3ca8d",
   "metadata": {
    "papermill": {
     "duration": 0.013116,
     "end_time": "2022-07-02T12:53:59.135660",
     "exception": false,
     "start_time": "2022-07-02T12:53:59.122544",
     "status": "completed"
    },
    "tags": []
   },
   "source": [
    "**Full Time** workers are dominating in every job title"
   ]
  },
  {
   "cell_type": "markdown",
   "id": "2f7b3ed1",
   "metadata": {
    "papermill": {
     "duration": 0.013037,
     "end_time": "2022-07-02T12:53:59.161680",
     "exception": false,
     "start_time": "2022-07-02T12:53:59.148643",
     "status": "completed"
    },
    "tags": []
   },
   "source": [
    "#### Job Title and Company Size"
   ]
  },
  {
   "cell_type": "code",
   "execution_count": 16,
   "id": "894351ec",
   "metadata": {
    "execution": {
     "iopub.execute_input": "2022-07-02T12:53:59.191278Z",
     "iopub.status.busy": "2022-07-02T12:53:59.190733Z",
     "iopub.status.idle": "2022-07-02T12:53:59.698222Z",
     "shell.execute_reply": "2022-07-02T12:53:59.696730Z"
    },
    "papermill": {
     "duration": 0.525735,
     "end_time": "2022-07-02T12:53:59.700928",
     "exception": false,
     "start_time": "2022-07-02T12:53:59.175193",
     "status": "completed"
    },
    "tags": []
   },
   "outputs": [
    {
     "data": {
      "image/png": "[encoded data removed]",
      "text/plain": [
       "<Figure size 798.125x720 with 1 Axes>"
      ]
     },
     "metadata": {},
     "output_type": "display_data"
    }
   ],
   "source": [
    "my_catplot(variable='company_size', hue_order = ['Small', 'Medium', 'Large'], title='Job Title and Company Size')"
   ]
  },
  {
   "cell_type": "markdown",
   "id": "30ad3d24",
   "metadata": {
    "papermill": {
     "duration": 0.014407,
     "end_time": "2022-07-02T12:53:59.729180",
     "exception": false,
     "start_time": "2022-07-02T12:53:59.714773",
     "status": "completed"
    },
    "tags": []
   },
   "source": [
    "Most of employees work in company that has 50 to 250 employees (Medium company size).\n",
    "Large company tends to more need Research Scientist than medium and small company."
   ]
  },
  {
   "cell_type": "markdown",
   "id": "0c0423f9",
   "metadata": {
    "papermill": {
     "duration": 0.014766,
     "end_time": "2022-07-02T12:53:59.759070",
     "exception": false,
     "start_time": "2022-07-02T12:53:59.744304",
     "status": "completed"
    },
    "tags": []
   },
   "source": [
    "#### Job Title and Remote Ratio"
   ]
  },
  {
   "cell_type": "code",
   "execution_count": 17,
   "id": "60e24711",
   "metadata": {
    "execution": {
     "iopub.execute_input": "2022-07-02T12:53:59.791804Z",
     "iopub.status.busy": "2022-07-02T12:53:59.791253Z",
     "iopub.status.idle": "2022-07-02T12:54:00.284895Z",
     "shell.execute_reply": "2022-07-02T12:54:00.283387Z"
    },
    "papermill": {
     "duration": 0.514678,
     "end_time": "2022-07-02T12:54:00.288321",
     "exception": false,
     "start_time": "2022-07-02T12:53:59.773643",
     "status": "completed"
    },
    "tags": []
   },
   "outputs": [
    {
     "data": {
      "image/png": "[encoded data removed]",
      "text/plain": [
       "<Figure size 837.5x720 with 1 Axes>"
      ]
     },
     "metadata": {},
     "output_type": "display_data"
    }
   ],
   "source": [
    "my_catplot(variable='remote_ratio', title='Job Title and Remote Ratio')"
   ]
  },
  {
   "cell_type": "markdown",
   "id": "34ab4e24",
   "metadata": {
    "papermill": {
     "duration": 0.015149,
     "end_time": "2022-07-02T12:54:00.319249",
     "exception": false,
     "start_time": "2022-07-02T12:54:00.304100",
     "status": "completed"
    },
    "tags": []
   },
   "source": [
    "Most of employees are working remotely, except, research Scientist tend to works partially remote."
   ]
  },
  {
   "cell_type": "markdown",
   "id": "dc6e2305",
   "metadata": {
    "papermill": {
     "duration": 0.014365,
     "end_time": "2022-07-02T12:54:00.348345",
     "exception": false,
     "start_time": "2022-07-02T12:54:00.333980",
     "status": "completed"
    },
    "tags": []
   },
   "source": [
    "#### What countries do employees come from?"
   ]
  },
  {
   "cell_type": "code",
   "execution_count": 18,
   "id": "c6e69958",
   "metadata": {
    "execution": {
     "iopub.execute_input": "2022-07-02T12:54:00.380231Z",
     "iopub.status.busy": "2022-07-02T12:54:00.379700Z",
     "iopub.status.idle": "2022-07-02T12:54:00.388768Z",
     "shell.execute_reply": "2022-07-02T12:54:00.387863Z"
    },
    "jupyter": {
     "source_hidden": true
    },
    "papermill": {
     "duration": 0.028618,
     "end_time": "2022-07-02T12:54:00.391689",
     "exception": false,
     "start_time": "2022-07-02T12:54:00.363071",
     "status": "completed"
    },
    "tags": []
   },
   "outputs": [
    {
     "data": {
      "text/plain": [
       "United States of America          332\n",
       "United Kingdom (Great Britain)     44\n",
       "India                              30\n",
       "Canada                             29\n",
       "Germany                            25\n",
       "France                             18\n",
       "Spain                              15\n",
       "Name: employee_residence, dtype: int64"
      ]
     },
     "execution_count": 18,
     "metadata": {},
     "output_type": "execute_result"
    }
   ],
   "source": [
    "seven_most_employee_residence = df['employee_residence'].value_counts().head(7)\n",
    "seven_most_employee_residence"
   ]
  },
  {
   "cell_type": "markdown",
   "id": "27dafd9c",
   "metadata": {
    "papermill": {
     "duration": 0.013845,
     "end_time": "2022-07-02T12:54:00.419976",
     "exception": false,
     "start_time": "2022-07-02T12:54:00.406131",
     "status": "completed"
    },
    "tags": []
   },
   "source": [
    "#### What countries do employees come from?"
   ]
  },
  {
   "cell_type": "code",
   "execution_count": 19,
   "id": "21ebdf64",
   "metadata": {
    "execution": {
     "iopub.execute_input": "2022-07-02T12:54:00.452097Z",
     "iopub.status.busy": "2022-07-02T12:54:00.451267Z",
     "iopub.status.idle": "2022-07-02T12:54:00.459975Z",
     "shell.execute_reply": "2022-07-02T12:54:00.458600Z"
    },
    "jupyter": {
     "source_hidden": true
    },
    "papermill": {
     "duration": 0.028242,
     "end_time": "2022-07-02T12:54:00.462779",
     "exception": false,
     "start_time": "2022-07-02T12:54:00.434537",
     "status": "completed"
    },
    "tags": []
   },
   "outputs": [
    {
     "data": {
      "text/plain": [
       "United States of America          355\n",
       "United Kingdom (Great Britain)     47\n",
       "Canada                             30\n",
       "Germany                            27\n",
       "India                              24\n",
       "France                             15\n",
       "Spain                              14\n",
       "Name: company_location, dtype: int64"
      ]
     },
     "execution_count": 19,
     "metadata": {},
     "output_type": "execute_result"
    }
   ],
   "source": [
    "seven_most_company_location = df['company_location'].value_counts().head(7)\n",
    "seven_most_company_location"
   ]
  },
  {
   "cell_type": "markdown",
   "id": "ef6bb599",
   "metadata": {
    "papermill": {
     "duration": 0.020995,
     "end_time": "2022-07-02T12:54:00.500719",
     "exception": false,
     "start_time": "2022-07-02T12:54:00.479724",
     "status": "completed"
    },
    "tags": []
   },
   "source": [
    "#### How many employee workin their own country?"
   ]
  },
  {
   "cell_type": "code",
   "execution_count": 20,
   "id": "07867d3d",
   "metadata": {
    "execution": {
     "iopub.execute_input": "2022-07-02T12:54:00.532243Z",
     "iopub.status.busy": "2022-07-02T12:54:00.531329Z",
     "iopub.status.idle": "2022-07-02T12:54:00.541240Z",
     "shell.execute_reply": "2022-07-02T12:54:00.540263Z"
    },
    "papermill": {
     "duration": 0.029033,
     "end_time": "2022-07-02T12:54:00.543895",
     "exception": false,
     "start_time": "2022-07-02T12:54:00.514862",
     "status": "completed"
    },
    "tags": []
   },
   "outputs": [],
   "source": [
    "residence_company = df[['employee_residence', 'company_location']]\n",
    "\n",
    "a = []\n",
    "for (i, j) in zip(residence_company['employee_residence'], residence_company['company_location']):\n",
    "    if i == j:\n",
    "        a.append('Yes')\n",
    "    else:\n",
    "        a.append('No')\n",
    "        \n",
    "residence_company['work_own_country'] = a"
   ]
  },
  {
   "cell_type": "code",
   "execution_count": 21,
   "id": "edc0fbb9",
   "metadata": {
    "execution": {
     "iopub.execute_input": "2022-07-02T12:54:00.574021Z",
     "iopub.status.busy": "2022-07-02T12:54:00.573167Z",
     "iopub.status.idle": "2022-07-02T12:54:00.582668Z",
     "shell.execute_reply": "2022-07-02T12:54:00.581561Z"
    },
    "jupyter": {
     "source_hidden": true
    },
    "papermill": {
     "duration": 0.027226,
     "end_time": "2022-07-02T12:54:00.585023",
     "exception": false,
     "start_time": "2022-07-02T12:54:00.557797",
     "status": "completed"
    },
    "tags": []
   },
   "outputs": [
    {
     "data": {
      "text/plain": [
       "Yes    556\n",
       "No      49\n",
       "Name: work_own_country, dtype: int64"
      ]
     },
     "execution_count": 21,
     "metadata": {},
     "output_type": "execute_result"
    }
   ],
   "source": [
    "residence_company['work_own_country'].value_counts()"
   ]
  },
  {
   "cell_type": "markdown",
   "id": "4ef0ae12",
   "metadata": {
    "papermill": {
     "duration": 0.01441,
     "end_time": "2022-07-02T12:54:00.613338",
     "exception": false,
     "start_time": "2022-07-02T12:54:00.598928",
     "status": "completed"
    },
    "tags": []
   },
   "source": [
    "Most of the employees are working in their own country"
   ]
  },
  {
   "cell_type": "code",
   "execution_count": 22,
   "id": "4045985b",
   "metadata": {
    "execution": {
     "iopub.execute_input": "2022-07-02T12:54:00.644895Z",
     "iopub.status.busy": "2022-07-02T12:54:00.644078Z",
     "iopub.status.idle": "2022-07-02T12:54:01.332578Z",
     "shell.execute_reply": "2022-07-02T12:54:01.331282Z"
    },
    "jupyter": {
     "source_hidden": true
    },
    "papermill": {
     "duration": 0.706653,
     "end_time": "2022-07-02T12:54:01.334979",
     "exception": false,
     "start_time": "2022-07-02T12:54:00.628326",
     "status": "completed"
    },
    "tags": []
   },
   "outputs": [
    {
     "data": {
      "image/png": "[encoded data removed]",
      "text/plain": [
       "<Figure size 798.125x720 with 1 Axes>"
      ]
     },
     "metadata": {},
     "output_type": "display_data"
    }
   ],
   "source": [
    "sns.catplot(data=df,\n",
    "            x='experience_level',\n",
    "            y ='salary_in_usd',\n",
    "            order=exp_order,\n",
    "            height= 10,\n",
    "            kind='box',\n",
    "            hue='company_size')\n",
    "\n",
    "plt.title('Experience Level, Salary, and Company Size')\n",
    "plt.ylabel('Salary')\n",
    "plt.xlabel('');"
   ]
  },
  {
   "cell_type": "code",
   "execution_count": 23,
   "id": "a28c371e",
   "metadata": {
    "execution": {
     "iopub.execute_input": "2022-07-02T12:54:01.367280Z",
     "iopub.status.busy": "2022-07-02T12:54:01.366762Z",
     "iopub.status.idle": "2022-07-02T12:54:01.966188Z",
     "shell.execute_reply": "2022-07-02T12:54:01.964388Z"
    },
    "jupyter": {
     "source_hidden": true
    },
    "papermill": {
     "duration": 0.618929,
     "end_time": "2022-07-02T12:54:01.969246",
     "exception": false,
     "start_time": "2022-07-02T12:54:01.350317",
     "status": "completed"
    },
    "tags": []
   },
   "outputs": [
    {
     "data": {
      "image/png": "[encoded data removed]",
      "text/plain": [
       "<Figure size 817.875x720 with 1 Axes>"
      ]
     },
     "metadata": {},
     "output_type": "display_data"
    }
   ],
   "source": [
    "sns.catplot(data=df,\n",
    "            x='remote_ratio',\n",
    "            y ='salary_in_usd',\n",
    "            height= 10,\n",
    "            kind='box',\n",
    "            hue='employment_type')\n",
    "\n",
    "plt.title('Remote Ratio, Salary, and Employment Type')\n",
    "plt.ylabel('Salary')\n",
    "plt.xlabel('');"
   ]
  },
  {
   "cell_type": "code",
   "execution_count": 24,
   "id": "cd9e4624",
   "metadata": {
    "execution": {
     "iopub.execute_input": "2022-07-02T12:54:02.004367Z",
     "iopub.status.busy": "2022-07-02T12:54:02.003589Z",
     "iopub.status.idle": "2022-07-02T12:54:02.011411Z",
     "shell.execute_reply": "2022-07-02T12:54:02.010072Z"
    },
    "jupyter": {
     "source_hidden": true
    },
    "papermill": {
     "duration": 0.029374,
     "end_time": "2022-07-02T12:54:02.014510",
     "exception": false,
     "start_time": "2022-07-02T12:54:01.985136",
     "status": "completed"
    },
    "tags": []
   },
   "outputs": [],
   "source": [
    "seven_country_company_location = df['company_location'].value_counts().head(7)"
   ]
  },
  {
   "cell_type": "code",
   "execution_count": 25,
   "id": "6242129d",
   "metadata": {
    "execution": {
     "iopub.execute_input": "2022-07-02T12:54:02.049085Z",
     "iopub.status.busy": "2022-07-02T12:54:02.048576Z",
     "iopub.status.idle": "2022-07-02T12:54:02.057664Z",
     "shell.execute_reply": "2022-07-02T12:54:02.055697Z"
    },
    "jupyter": {
     "source_hidden": true
    },
    "papermill": {
     "duration": 0.03015,
     "end_time": "2022-07-02T12:54:02.060405",
     "exception": false,
     "start_time": "2022-07-02T12:54:02.030255",
     "status": "completed"
    },
    "tags": []
   },
   "outputs": [],
   "source": [
    "seven_country_only_company_location = df[df['company_location'].isin([i for i in seven_country_company_location.index])]"
   ]
  },
  {
   "cell_type": "code",
   "execution_count": 26,
   "id": "fd45098a",
   "metadata": {
    "execution": {
     "iopub.execute_input": "2022-07-02T12:54:02.099248Z",
     "iopub.status.busy": "2022-07-02T12:54:02.097956Z",
     "iopub.status.idle": "2022-07-02T12:54:02.111886Z",
     "shell.execute_reply": "2022-07-02T12:54:02.110695Z"
    },
    "jupyter": {
     "source_hidden": true
    },
    "papermill": {
     "duration": 0.037212,
     "end_time": "2022-07-02T12:54:02.115486",
     "exception": false,
     "start_time": "2022-07-02T12:54:02.078274",
     "status": "completed"
    },
    "tags": []
   },
   "outputs": [],
   "source": [
    "company_country_high_paid = seven_country_only_company_location[['company_location', 'salary_in_usd']].groupby(by='company_location').mean().sort_values(by='salary_in_usd', ascending=False)"
   ]
  },
  {
   "cell_type": "code",
   "execution_count": 27,
   "id": "79092ca4",
   "metadata": {
    "execution": {
     "iopub.execute_input": "2022-07-02T12:54:02.150494Z",
     "iopub.status.busy": "2022-07-02T12:54:02.150007Z",
     "iopub.status.idle": "2022-07-02T12:54:02.406152Z",
     "shell.execute_reply": "2022-07-02T12:54:02.404573Z"
    },
    "papermill": {
     "duration": 0.278106,
     "end_time": "2022-07-02T12:54:02.409069",
     "exception": false,
     "start_time": "2022-07-02T12:54:02.130963",
     "status": "completed"
    },
    "tags": []
   },
   "outputs": [
    {
     "data": {
      "text/plain": [
       "''"
      ]
     },
     "execution_count": 27,
     "metadata": {},
     "output_type": "execute_result"
    },
    {
     "data": {
      "image/png": "[encoded data removed]",
      "text/plain": [
       "<Figure size 720x360 with 1 Axes>"
      ]
     },
     "metadata": {},
     "output_type": "display_data"
    }
   ],
   "source": [
    "plt.figure(figsize=(10, 5))\n",
    "\n",
    "sns.barplot(data=company_country_high_paid, y=company_country_high_paid.index, x='salary_in_usd')\n",
    "\n",
    "plt.ylabel('')\n",
    "plt.xlabel('Salary')\n",
    "plt.title('High Paid Country Data Science Job Where Country Located')\n",
    ";"
   ]
  },
  {
   "cell_type": "code",
   "execution_count": 28,
   "id": "fcb67242",
   "metadata": {
    "execution": {
     "iopub.execute_input": "2022-07-02T12:54:02.445853Z",
     "iopub.status.busy": "2022-07-02T12:54:02.443850Z",
     "iopub.status.idle": "2022-07-02T12:54:02.451591Z",
     "shell.execute_reply": "2022-07-02T12:54:02.450503Z"
    },
    "jupyter": {
     "source_hidden": true
    },
    "papermill": {
     "duration": 0.02828,
     "end_time": "2022-07-02T12:54:02.454146",
     "exception": false,
     "start_time": "2022-07-02T12:54:02.425866",
     "status": "completed"
    },
    "tags": []
   },
   "outputs": [],
   "source": [
    "seven_country_employee_residence = df['employee_residence'].value_counts().head(7)"
   ]
  },
  {
   "cell_type": "code",
   "execution_count": 29,
   "id": "00f474d5",
   "metadata": {
    "execution": {
     "iopub.execute_input": "2022-07-02T12:54:02.490707Z",
     "iopub.status.busy": "2022-07-02T12:54:02.488329Z",
     "iopub.status.idle": "2022-07-02T12:54:02.496930Z",
     "shell.execute_reply": "2022-07-02T12:54:02.495976Z"
    },
    "jupyter": {
     "source_hidden": true
    },
    "papermill": {
     "duration": 0.028598,
     "end_time": "2022-07-02T12:54:02.499249",
     "exception": false,
     "start_time": "2022-07-02T12:54:02.470651",
     "status": "completed"
    },
    "tags": []
   },
   "outputs": [],
   "source": [
    "seven_country_only_employee_residence = df[df['employee_residence'].isin([i for i in seven_country_employee_residence.index])]"
   ]
  },
  {
   "cell_type": "code",
   "execution_count": null,
   "id": "1914975a",
   "metadata": {
    "jupyter": {
     "source_hidden": true
    },
    "papermill": {
     "duration": 0.016921,
     "end_time": "2022-07-02T12:54:02.532888",
     "exception": false,
     "start_time": "2022-07-02T12:54:02.515967",
     "status": "completed"
    },
    "tags": []
   },
   "outputs": [],
   "source": []
  },
  {
   "cell_type": "code",
   "execution_count": 30,
   "id": "013a76b0",
   "metadata": {
    "execution": {
     "iopub.execute_input": "2022-07-02T12:54:02.568346Z",
     "iopub.status.busy": "2022-07-02T12:54:02.567032Z",
     "iopub.status.idle": "2022-07-02T12:54:02.577156Z",
     "shell.execute_reply": "2022-07-02T12:54:02.576147Z"
    },
    "jupyter": {
     "source_hidden": true
    },
    "papermill": {
     "duration": 0.030568,
     "end_time": "2022-07-02T12:54:02.579710",
     "exception": false,
     "start_time": "2022-07-02T12:54:02.549142",
     "status": "completed"
    },
    "tags": []
   },
   "outputs": [],
   "source": [
    "employee_country_high_paid = seven_country_only_employee_residence[['employee_residence', 'salary_in_usd']].groupby(by='employee_residence').mean().sort_values(by='salary_in_usd', ascending=False)"
   ]
  },
  {
   "cell_type": "code",
   "execution_count": 31,
   "id": "4454a9c5",
   "metadata": {
    "execution": {
     "iopub.execute_input": "2022-07-02T12:54:02.614429Z",
     "iopub.status.busy": "2022-07-02T12:54:02.613897Z",
     "iopub.status.idle": "2022-07-02T12:54:02.904142Z",
     "shell.execute_reply": "2022-07-02T12:54:02.902869Z"
    },
    "jupyter": {
     "source_hidden": true
    },
    "papermill": {
     "duration": 0.311862,
     "end_time": "2022-07-02T12:54:02.907232",
     "exception": false,
     "start_time": "2022-07-02T12:54:02.595370",
     "status": "completed"
    },
    "tags": []
   },
   "outputs": [
    {
     "data": {
      "image/png": "[encoded data removed]",
      "text/plain": [
       "<Figure size 720x360 with 1 Axes>"
      ]
     },
     "metadata": {},
     "output_type": "display_data"
    }
   ],
   "source": [
    "plt.figure(figsize=(10, 5))\n",
    "\n",
    "sns.barplot(data=employee_country_high_paid, y=employee_country_high_paid.index, x='salary_in_usd')\n",
    "\n",
    "plt.ylabel('')\n",
    "plt.xlabel('Salary')\n",
    "plt.title('High Paid Data Science Job Employee Country Residence ');"
   ]
  },
  {
   "cell_type": "code",
   "execution_count": null,
   "id": "dcf36b37",
   "metadata": {
    "jupyter": {
     "source_hidden": true
    },
    "papermill": {
     "duration": 0.017732,
     "end_time": "2022-07-02T12:54:02.943082",
     "exception": false,
     "start_time": "2022-07-02T12:54:02.925350",
     "status": "completed"
    },
    "tags": []
   },
   "outputs": [],
   "source": []
  }
 ],
 "metadata": {
  "kernelspec": {
   "display_name": "Python 3",
   "language": "python",
   "name": "python3"
  },
  "language_info": {
   "codemirror_mode": {
    "name": "ipython",
    "version": 3
   },
   "file_extension": ".py",
   "mimetype": "text/x-python",
   "name": "python",
   "nbconvert_exporter": "python",
   "pygments_lexer": "ipython3",
   "version": "3.7.12"
  },
  "papermill": {
   "default_parameters": {},
   "duration": 21.413891,
   "end_time": "2022-07-02T12:54:04.189766",
   "environment_variables": {},
   "exception": null,
   "input_path": "__notebook__.ipynb",
   "output_path": "__notebook__.ipynb",
   "parameters": {},
   "start_time": "2022-07-02T12:53:42.775875",
   "version": "2.3.4"
  }
 },
 "nbformat": 4,
 "nbformat_minor": 5
}
